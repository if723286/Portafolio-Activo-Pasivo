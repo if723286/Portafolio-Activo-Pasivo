{
 "cells": [
  {
   "cell_type": "markdown",
   "metadata": {},
   "source": [
    "<center> <img src=\"https://impassivewealth.com/wp-content/uploads/2020/10/ActivePassive-768x241.png\" align=\"center\" width=\"960\" height=\"480\"/> </center>"
   ]
  },
  {
   "cell_type": "markdown",
   "metadata": {},
   "source": [
    "<center><font color=#555555><font size=6> MAF1731 - Microstructure and Trading Systems </font> <br> <br>\n",
    "    \n",
    "<center><font color=#555555><font size=5> B.Eng Financial Engineering </font> <br> <br> <br> <br>\n",
    "\n",
    "<center><font color=#555555><font size=6> I.F. Blas César Sánchez Barba </font> <br> <br>\n",
    "   \n",
    "<center> <font color= #555555> <font size = 4> Jun 2021 </a> | <font color= #555555> <font size = 4> Repository: <a href='https://github.com/if723286/Portafolio-Activo-Pasivo'>Link</a></font>"
   ]
  },
  {
   "cell_type": "markdown",
   "metadata": {},
   "source": [
    "<hr style=\"border:0.02in solid gray\"> </hr>"
   ]
  },
  {
   "cell_type": "markdown",
   "metadata": {},
   "source": [
    "<center> <font color= #555555> <font size = 6> Lab 1 </font> <br> <br> <font color= #555555> <font size = 5> Active Investment vs Pasive Investment. Which one is better?  </font>"
   ]
  },
  {
   "cell_type": "markdown",
   "metadata": {},
   "source": [
    "<hr style=\"border:0.02in solid gray\"> </hr>"
   ]
  },
  {
   "cell_type": "markdown",
   "metadata": {},
   "source": [
    "<br>"
   ]
  },
  {
   "cell_type": "markdown",
   "metadata": {},
   "source": [
    "<font color= #555555> <font size = 4> Abstract </font>"
   ]
  },
  {
   "cell_type": "markdown",
   "metadata": {},
   "source": [
    "<font color= #6B6B6B> <font size = 3>  Include here a description of the whole work, use no more than 400 words, you can use **Bold** and *Italic* highlights, also you can inclue [links](www.iteso.mx). Usually is a good strategy to generate this text at the very end of the process, since you have to include all aspects of the work, from a brief introduction, to problem definitions and methods used, to finally the results found. </font>"
   ]
  },
  {
   "cell_type": "markdown",
   "metadata": {},
   "source": [
    "<br>"
   ]
  },
  {
   "cell_type": "markdown",
   "metadata": {},
   "source": [
    "# <font color= #6B6B6B> <font size = 6> 1. Introduction </font>"
   ]
  },
  {
   "cell_type": "markdown",
   "metadata": {},
   "source": [
    "<hr style=\"border:0.02in solid gray\"> </hr>"
   ]
  },
  {
   "cell_type": "markdown",
   "metadata": {},
   "source": [
    "This is an introduction, normally, it is done at the very end, when all the other content in the notebook is completed but just before the abstract (which is short version of the introduction) ... "
   ]
  },
  {
   "cell_type": "markdown",
   "metadata": {},
   "source": [
    "<br>"
   ]
  },
  {
   "cell_type": "markdown",
   "metadata": {},
   "source": [
    "# <font color= #6B6B6B> 2. Install/Load Packages and Depedencies </font>"
   ]
  },
  {
   "cell_type": "markdown",
   "metadata": {},
   "source": [
    "<hr style=\"border:0.02in solid gray\"> </hr>"
   ]
  },
  {
   "cell_type": "markdown",
   "metadata": {},
   "source": [
    "<br>"
   ]
  },
  {
   "cell_type": "markdown",
   "metadata": {},
   "source": [
    "Finally, from the notebook it will be possible to acces other files within the mounted folder"
   ]
  },
  {
   "attachments": {},
   "cell_type": "markdown",
   "metadata": {},
   "source": [
    "### <font color= #6B6B6B> 2.1 Python Packages </font> <font color= #555555>"
   ]
  },
  {
   "cell_type": "markdown",
   "metadata": {},
   "source": [
    "In order to run this notebook, it is necessary to have installed and/or have the _requirements.txt_ file with the following: "
   ]
  },
  {
   "cell_type": "markdown",
   "metadata": {},
   "source": [
    "- pandas>=1.1.1 \n",
    "- numpy>=1.19.1\n",
    "- jupyter>=1.0.0\n",
    "- _Add any other here_"
   ]
  },
  {
   "cell_type": "code",
   "execution_count": null,
   "metadata": {},
   "outputs": [],
   "source": [
    "# Install all the pip packages in the requirements.txt\n",
    "%%capture\n",
    "import sys\n",
    "!{sys.executable} -m pip install -r requirements.txt"
   ]
  },
  {
   "attachments": {},
   "cell_type": "markdown",
   "metadata": {},
   "source": [
    "### <font color= #6B6B6B> 2.2 Files Dependencies </font> <font color= #555555>"
   ]
  },
  {
   "cell_type": "markdown",
   "metadata": {},
   "source": [
    "The following are the file dependencies that are needed to run this notebook:"
   ]
  },
  {
   "cell_type": "markdown",
   "metadata": {},
   "source": [
    "- files/precios.csv : Precios históricos\n",
    "- files/datos.txt : Otros datos históricos"
   ]
  },
  {
   "cell_type": "markdown",
   "metadata": {},
   "source": [
    "<br>"
   ]
  },
  {
   "cell_type": "markdown",
   "metadata": {},
   "source": [
    "# <font color= #6B6B6B> 3. Data Description </font>"
   ]
  },
  {
   "attachments": {},
   "cell_type": "markdown",
   "metadata": {},
   "source": [
    "<hr style=\"border:0.02in solid gray\"> </hr>"
   ]
  },
  {
   "attachments": {},
   "cell_type": "markdown",
   "metadata": {},
   "source": [
    "Here we explain the data"
   ]
  },
  {
   "attachments": {},
   "cell_type": "markdown",
   "metadata": {},
   "source": [
    "### <font color= #6B6B6B> 3.1 Selection of stocks for portfolio </font> <font color= #555555>"
   ]
  },
  {
   "attachments": {},
   "cell_type": "markdown",
   "metadata": {},
   "source": [
    "We want to create our own portfolio. In order to do that is necesarry ti know which stocks are the most important ones in the NAFTRAC.\n",
    "\n",
    "Since NAFRAC is a ETF that replies the S&P IPC 35, and the S&P IPC includes only the most strong enterprices in the Mexican market based in its level of capitalization, we need to obtain those stock that always appear in the NAFTRAC\n",
    "\n",
    "First of all, lets get all the stocks that appered at lest once during the last two years"
   ]
  },
  {
   "cell_type": "code",
   "execution_count": null,
   "metadata": {},
   "outputs": [],
   "source": [
    "import pandas as pd\n",
    "import os\n",
    "import pandas as pd\n",
    "import numpy as np\n",
    "import yfinance as yf\n",
    "from scipy.optimize import minimize"
   ]
  },
  {
   "cell_type": "code",
   "execution_count": null,
   "metadata": {},
   "outputs": [],
   "source": [
    "# directory containing the csv files\n",
    "directory = 'files'\n",
    "\n",
    "\n",
    "\n",
    "columns = ['Ticker']\n",
    "df_global = pd.DataFrame(columns=columns)\n",
    "\n",
    "# loop through all the files in the directory\n",
    "for filename in os.listdir(directory):\n",
    "    # check if the file is a csv file\n",
    "    if filename.endswith(\".csv\"):\n",
    "        # read the csv file and store it in a data frame\n",
    "        df = pd.read_csv(os.path.join(directory, filename), skiprows=2, nrows=37 , usecols=[\"Ticker\", 'Peso (%)', 'Precio'])\n",
    "        # append the data frame to the list\n",
    "        df_global = pd.concat([df_global, df])      "
   ]
  },
  {
   "attachments": {},
   "cell_type": "markdown",
   "metadata": {},
   "source": [
    "Now we want to obtain how many times each stock appear in the NAFTRAC"
   ]
  },
  {
   "cell_type": "code",
   "execution_count": null,
   "metadata": {},
   "outputs": [],
   "source": [
    "df_global['Ticker'] = df_global['Ticker'].map(lambda x: x.replace('*',''))\n",
    "df_global['Ticker'] = df_global['Ticker'].map(lambda x: x.replace('.',''))\n",
    "df_global['Ticker'] = df_global['Ticker'].apply(lambda x: \"{}{}\".format(x, '.MX'))"
   ]
  },
  {
   "attachments": {},
   "cell_type": "markdown",
   "metadata": {},
   "source": [
    "Then lets just select those stocks that appear all and every single time in the NAFTRAC"
   ]
  },
  {
   "cell_type": "code",
   "execution_count": null,
   "metadata": {},
   "outputs": [],
   "source": [
    "df_global_list = df_global['Ticker'].value_counts(sort=True,ascending=False).index[:34].tolist()"
   ]
  },
  {
   "attachments": {},
   "cell_type": "markdown",
   "metadata": {},
   "source": [
    "There were some errors, so lets fiz them before going into the portfolios"
   ]
  },
  {
   "cell_type": "code",
   "execution_count": null,
   "metadata": {},
   "outputs": [],
   "source": [
    "df_global_list.remove('LIVEPOLC1.MX')\n",
    "df_global_list.remove('MXN.MX')\n",
    "df_global_list.append('LIVEPOLC-1.MX')"
   ]
  },
  {
   "cell_type": "code",
   "execution_count": null,
   "metadata": {},
   "outputs": [],
   "source": [
    "p_portfolio = df_global.head(33)\n",
    "p_portfolio['Precio'] = p_portfolio['Precio'].astype(str)\n",
    "p_portfolio['Precio'] = p_portfolio['Precio'].map(lambda x: x.replace(',',''))\n",
    "p_portfolio['Precio'] = p_portfolio['Precio'].astype(float)\n",
    "p_portfolio['Peso (%)'] = p_portfolio['Peso (%)'].apply(lambda x: x/100)"
   ]
  },
  {
   "attachments": {},
   "cell_type": "markdown",
   "metadata": {},
   "source": [
    "# <font color= #6B6B6B> 4. Pasive investment  </font>"
   ]
  },
  {
   "cell_type": "markdown",
   "metadata": {},
   "source": [
    "<hr style=\"border:0.02in solid gray\"> </hr>"
   ]
  },
  {
   "cell_type": "code",
   "execution_count": null,
   "metadata": {},
   "outputs": [],
   "source": [
    "p_portfolio = p_portfolio.sort_values('Ticker')\n",
    "p_portfolio = p_portfolio.reset_index(drop=True)"
   ]
  },
  {
   "attachments": {},
   "cell_type": "markdown",
   "metadata": {},
   "source": [
    "Lets get the value to invest in each and every stock"
   ]
  },
  {
   "cell_type": "code",
   "execution_count": null,
   "metadata": {},
   "outputs": [],
   "source": [
    "p_portfolio['Value'] = p_portfolio['Peso (%)'] * 1000000\n",
    "january_2021 = p_portfolio.Value.sum()"
   ]
  },
  {
   "attachments": {},
   "cell_type": "markdown",
   "metadata": {},
   "source": [
    "Lets call the prices of the stocks included in our portfolio"
   ]
  },
  {
   "cell_type": "code",
   "execution_count": null,
   "metadata": {},
   "outputs": [],
   "source": [
    "tickers = df_global_list\n",
    "\n",
    "data = yf.download(tickers = tickers, start= '2021-01-01', end='2023-02-01', interval = \"1mo\")"
   ]
  },
  {
   "cell_type": "code",
   "execution_count": null,
   "metadata": {},
   "outputs": [],
   "source": [
    "data = data['Adj Close']\n",
    "data = data.transpose()"
   ]
  },
  {
   "cell_type": "code",
   "execution_count": null,
   "metadata": {},
   "outputs": [],
   "source": [
    "data = data.reset_index(drop=True)"
   ]
  },
  {
   "cell_type": "code",
   "execution_count": null,
   "metadata": {},
   "outputs": [],
   "source": [
    "data.insert(0, 'Peso (%)', p_portfolio['Peso (%)'])\n",
    "data.insert(0, 'Ticker', p_portfolio['Ticker']) "
   ]
  },
  {
   "cell_type": "code",
   "execution_count": null,
   "metadata": {},
   "outputs": [],
   "source": [
    "data = data.dropna()"
   ]
  },
  {
   "cell_type": "code",
   "execution_count": null,
   "metadata": {},
   "outputs": [],
   "source": [
    "primero = pd.DataFrame({'capital': [january_2021]})"
   ]
  },
  {
   "cell_type": "code",
   "execution_count": null,
   "metadata": {},
   "outputs": [],
   "source": [
    "results=[]\n",
    "for j in range (0,24):\n",
    "    suma = 0\n",
    "    for i in range (0, 31):\n",
    "        X = 0\n",
    "        X = (data.iloc[i,j+3]/data.iloc[i,j+2]-1)*data.iloc[i,1]\n",
    "        if X>0:\n",
    "            suma += X\n",
    "    results.append(suma)"
   ]
  },
  {
   "cell_type": "code",
   "execution_count": null,
   "metadata": {},
   "outputs": [],
   "source": [
    "df = pd.DataFrame (results, columns = ['rendimiento'])\n",
    "df.loc[-1] = [0]  # adding a row\n",
    "df.index = df.index + 1  # shifting index\n",
    "df.sort_index(inplace=True) "
   ]
  },
  {
   "cell_type": "code",
   "execution_count": null,
   "metadata": {},
   "outputs": [],
   "source": [
    "import datetime\n",
    "dates=[] \n",
    "# range of dates\n",
    "date_range = pd.period_range(\n",
    "    start='2021-01-01', periods=26, freq='M')\n",
    "  \n",
    "# timestamp range\n",
    "timestamp_range = [x.to_timestamp() for x in date_range]\n",
    "  \n",
    "# iterating through timestamp range\n",
    "for i in timestamp_range:\n",
    "    dates.append(i)\n",
    "\n",
    "df_pasiva = pd.DataFrame (dates, columns = ['timestamp'])"
   ]
  },
  {
   "cell_type": "code",
   "execution_count": null,
   "metadata": {},
   "outputs": [],
   "source": [
    "df_pasiva.insert(1, 'capital', primero['capital'])\n",
    "df_pasiva.insert(2, 'rendimiento', df['rendimiento'])"
   ]
  },
  {
   "cell_type": "code",
   "execution_count": null,
   "metadata": {},
   "outputs": [],
   "source": [
    "df_pasiva.iloc[1,1] = df_pasiva.iloc[0,1] #la primera es la fila y la segunda es la columna\n",
    "\n",
    "for i in range (0,23):\n",
    "    df_pasiva.iloc[i+2,1] = df_pasiva.iloc[i+1,1]*(1 + df_pasiva.iloc[i+1,2])"
   ]
  },
  {
   "cell_type": "code",
   "execution_count": null,
   "metadata": {},
   "outputs": [],
   "source": [
    "acumulado=[]\n",
    "for i in range(0,23):\n",
    "    x  = df_pasiva.iloc[i+1,1]/df_pasiva.iloc[0,1]-1\n",
    "    acumulado.append(x)\n",
    "acumulado = pd.DataFrame (acumulado, columns = ['rendimiento acumulado'])\n",
    "    "
   ]
  },
  {
   "cell_type": "code",
   "execution_count": null,
   "metadata": {},
   "outputs": [],
   "source": [
    "df_pasiva.insert(3, 'rendimiento acumulado', acumulado['rendimiento acumulado'])\n",
    "df_pasiva = df_pasiva.dropna()"
   ]
  },
  {
   "cell_type": "code",
   "execution_count": null,
   "metadata": {},
   "outputs": [],
   "source": [
    "df_pasiva\n",
    "\n"
   ]
  },
  {
   "cell_type": "markdown",
   "metadata": {},
   "source": [
    "<br>"
   ]
  },
  {
   "attachments": {},
   "cell_type": "markdown",
   "metadata": {},
   "source": [
    "# <font color= #6B6B6B> 5. Active investment  </font>"
   ]
  },
  {
   "cell_type": "markdown",
   "metadata": {},
   "source": [
    "<hr style=\"border:0.02in solid gray\"> </hr>"
   ]
  },
  {
   "cell_type": "markdown",
   "metadata": {},
   "source": [
    "<br>"
   ]
  },
  {
   "cell_type": "code",
   "execution_count": null,
   "metadata": {},
   "outputs": [],
   "source": [
    "data = yf.download(tickers = tickers, start= '2021-01-01', end='2023-02-01', interval = \"1mo\")\n",
    "data = data['Adj Close']\n",
    "ret1 = data.pct_change().dropna()\n",
    "ret1.plot(figsize=(9,7),grid=True);"
   ]
  },
  {
   "cell_type": "code",
   "execution_count": null,
   "metadata": {},
   "outputs": [],
   "source": [
    "# Rendimientos esperados, volatilidad, matriz de covarianza y matriz de correlacion\n",
    "tabla1 = pd.DataFrame(data={'Media1':ret1.mean(),\n",
    "                            'Volatilidad1':ret1.std()\n",
    "                            }, index=ret1.columns)\n",
    "\n",
    "cov1 = ret1.cov()\n",
    "corr1 = ret1.corr()"
   ]
  },
  {
   "cell_type": "code",
   "execution_count": null,
   "metadata": {},
   "outputs": [],
   "source": [
    "#Tasa libre de riesgo\n",
    "rf1 = 0.11 / 12"
   ]
  },
  {
   "cell_type": "code",
   "execution_count": null,
   "metadata": {},
   "outputs": [],
   "source": [
    "# Construcción de parámetros\n",
    "S1 = np.diag(tabla1.iloc[:,1])\n",
    "Sigma1 = S1.dot(corr1).dot(S1)\n",
    "\n",
    "Eind1 = tabla1.iloc[:,0]\n",
    "\n",
    "# Función objetivo\n",
    "def varianza(w, Sigma1):\n",
    "    return w.T.dot(Sigma1).dot(w)\n",
    "\n",
    "# Dato inicial\n",
    "n1 = len(Eind1)\n",
    "w01 = np.ones(n1) / n1\n",
    "# Cotas de las variables\n",
    "bnds1 = ((0, 1),) * n1\n",
    "# Restricciones\n",
    "cons1 = {'type': 'eq', 'fun': lambda w: w.sum() - 1}\n",
    "\n",
    "# Portafolio de mínima varianza\n",
    "minimavar1 = minimize(fun=varianza,\n",
    "                   x0=w01,\n",
    "                   args=(Sigma1,),\n",
    "                   bounds=bnds1,\n",
    "                   constraints=cons1\n",
    "                  )\n",
    "minimavar1"
   ]
  },
  {
   "cell_type": "code",
   "execution_count": null,
   "metadata": {},
   "outputs": [],
   "source": [
    "# Pesos, rendimiento, riesgo y Radio de Sharpe del portafolio de mínima varianza\n",
    "\n",
    "w_minvar1 = minimavar1.x\n",
    "E_minvar1 = Eind1.T.dot(w_minvar1)\n",
    "s_minvar1 = varianza(w_minvar1, Sigma1)**0.5\n",
    "RS_minvar1 = (E_minvar1 - rf1) / s_minvar1\n",
    "w_minvar1, E_minvar1, s_minvar1, RS_minvar1"
   ]
  },
  {
   "attachments": {},
   "cell_type": "markdown",
   "metadata": {},
   "source": [
    "Verificamos que los pesos sean correctos"
   ]
  },
  {
   "cell_type": "code",
   "execution_count": null,
   "metadata": {},
   "outputs": [],
   "source": [
    "w_minvar1.sum()"
   ]
  },
  {
   "cell_type": "code",
   "execution_count": null,
   "metadata": {},
   "outputs": [],
   "source": [
    "data = data.transpose()"
   ]
  },
  {
   "cell_type": "code",
   "execution_count": null,
   "metadata": {},
   "outputs": [],
   "source": [
    "data.insert(0, 'Peso (%)', w_minvar1)"
   ]
  },
  {
   "cell_type": "code",
   "execution_count": null,
   "metadata": {},
   "outputs": [],
   "source": [
    "df_activa = pd.DataFrame (dates, columns = ['timestamp'])"
   ]
  },
  {
   "cell_type": "code",
   "execution_count": null,
   "metadata": {},
   "outputs": [],
   "source": [
    "ret1=ret1.transpose()\n",
    "ret1.insert(0, 'Peso (%)', w_minvar1)"
   ]
  },
  {
   "cell_type": "code",
   "execution_count": null,
   "metadata": {},
   "outputs": [],
   "source": [
    "df = pd.DataFrame(ret1)\n",
    "# Define the condition to filter the rows\n",
    "condition = df['Peso (%)'] > 0.001\n",
    "\n",
    "# Filter the DataFrame based on the condition\n",
    "filtered_ret1 = df[condition]"
   ]
  },
  {
   "cell_type": "code",
   "execution_count": null,
   "metadata": {},
   "outputs": [],
   "source": [
    "# Create a list of values to filter by\n",
    "values_to_filter = filtered_ret1.index.values\n",
    "\n",
    "filtered_data = data[data.index.isin(values_to_filter)]"
   ]
  },
  {
   "attachments": {},
   "cell_type": "markdown",
   "metadata": {},
   "source": [
    "Voy a invertir $900,000 al inicio para poder tener CASH y ser capaz de hacer rebalanceos ir haciendo rebalanceos mes a mes"
   ]
  },
  {
   "cell_type": "code",
   "execution_count": null,
   "metadata": {},
   "outputs": [],
   "source": [
    "filtered_data.insert(1, 'Value', filtered_data['Peso (%)']*900000)"
   ]
  },
  {
   "cell_type": "code",
   "execution_count": null,
   "metadata": {},
   "outputs": [],
   "source": [
    "filtered_data.insert(2, 'Stocks', filtered_data['Value']/filtered_data.iloc[:,3])"
   ]
  },
  {
   "cell_type": "code",
   "execution_count": null,
   "metadata": {},
   "outputs": [],
   "source": [
    "stocks = filtered_data.iloc[:, [1, 2]]\n"
   ]
  },
  {
   "attachments": {},
   "cell_type": "markdown",
   "metadata": {},
   "source": [
    "Hay que obtener los valores de nuestro portafolio para el primer periodo"
   ]
  },
  {
   "cell_type": "code",
   "execution_count": null,
   "metadata": {},
   "outputs": [],
   "source": [
    "df_activa.insert(1, 'capital',  filtered_data['Value'].sum())\n",
    "df_activa.insert(2, 'rendimiento', 0)\n",
    "df_activa.insert(3, 'rendimeinto acumulado', 0)\n",
    "df_activa.insert(4, 'titulos totales', filtered_data['Stocks'].sum())\n",
    "df_activa.insert(5, 'titulos_c_v', 0)\n",
    "df_activa.insert(6, 'comision', filtered_data['Value'].sum()*0.004) #es la comision que cobra Kuspit\n",
    "df_activa.insert(7, 'comision acumulada', filtered_data['Value'].sum()*0.04)"
   ]
  },
  {
   "cell_type": "code",
   "execution_count": null,
   "metadata": {},
   "outputs": [],
   "source": [
    "for j in range(0,24):  \n",
    "    for i in range(0,9):\n",
    "        filtered_data.iloc[i,1] = filtered_data.iloc[i,1]*(1+filtered_ret1.iloc[i,j+1]) #Para actualizar cuanto vale la inversion del portafolio en base a moviemientos del mercado\n",
    "        # Hasta esto momento solo se ve reflajado en filtered_data el rendimiento de mercado, falta sumarle lo que compre o vendi de acciones por que los cambios en el precio (rebalanceo)\n",
    "\n",
    "        #Para los balanceos de acciones (Aqui cambiamos la ponderacion de cada activo en el portafolio)\n",
    "        if filtered_ret1.iloc[i,j+1] < -0.05:  #Row,Column\n",
    "            filtered_data.iloc[i,0]= filtered_data.iloc[i,0]-0.025\n",
    "\n",
    "        elif filtered_ret1.iloc[i,j+1] > 0.05:  \n",
    "            filtered_data.iloc[i,0]= filtered_data.iloc[i,0]+0.025\n",
    "        else:\n",
    "            filtered_data.iloc[i,0]= filtered_data.iloc[i,0]\n",
    "\n",
    "        #Para las compras de acciones y con ello cabiar el valor de mi portafolio\n",
    "        if filtered_ret1.iloc[i,j+1] < -0.05:  #Row,Column\n",
    "            filtered_data.iloc[i,1] = filtered_data.iloc[i,1]*(1-0.025)\n",
    "\n",
    "        elif filtered_ret1.iloc[i,j+1] > 0.05:  \n",
    "            filtered_data.iloc[i,1] = filtered_data.iloc[i,1]*(1+0.025)\n",
    "        else:\n",
    "            filtered_data.iloc[i,1] = filtered_data.iloc[i,1]*(1-0.025)\n",
    "\n",
    "        \n",
    "        \n",
    "        filtered_data.iloc[i,2] = filtered_data.iloc[i,1]/filtered_data.iloc[i,j+3] #Para numero de stocks \n",
    "\n",
    "\n",
    "    #Aqui vamos a poner todos los cambios de las variables que se hacen mes a mes por el rebalanceo    \n",
    "    df_activa.iloc[j+1,1]=filtered_data.Value.sum()\n",
    "    df_activa.iloc[j+1,2]=(filtered_ret1.iloc[:,j+1]*filtered_ret1.iloc[:,j]).sum()\n",
    "    df_activa.iloc[j+1,3]=(1+df_activa.iloc[j+1,2])*(1+1+df_activa.iloc[j,2])-1\n",
    "    df_activa.iloc[j+1,4]=filtered_data.Stocks.sum()\n",
    "    df_activa.iloc[j+1,5]=df_activa.iloc[j+1,4]-df_activa.iloc[j,4]\n",
    "    if  df_activa.iloc[j+1,5]>0:\n",
    "         df_activa.iloc[j+1,6]=df_activa.iloc[j+1,5]*0.004 #La comison que cobra kuspit\n",
    "    else:\n",
    "        df_activa.iloc[j+1,6]=df_activa.iloc[j+1,5]*0.004*-1\n",
    "    df_activa.iloc[j+1,7]=df_activa.iloc[j,7]+df_activa.iloc[j+1,6]\n",
    "    \n",
    "df_activa = df_activa.drop(df_activa.index[-1])"
   ]
  },
  {
   "cell_type": "code",
   "execution_count": null,
   "metadata": {},
   "outputs": [],
   "source": [
    "df_activa"
   ]
  },
  {
   "cell_type": "markdown",
   "metadata": {},
   "source": [
    "# <font color= #6B6B6B> <font size = 6> 5. Results </font>"
   ]
  },
  {
   "cell_type": "markdown",
   "metadata": {},
   "source": [
    "<hr style=\"border:0.02in solid gray\"> </hr>"
   ]
  },
  {
   "cell_type": "code",
   "execution_count": null,
   "metadata": {},
   "outputs": [],
   "source": [
    "# DELETE THIS CELL IN YOUR FILE\n",
    "\n",
    "# In here you present the general results, and also, a discussion of such results."
   ]
  },
  {
   "cell_type": "markdown",
   "metadata": {},
   "source": [
    "<br>"
   ]
  },
  {
   "cell_type": "markdown",
   "metadata": {},
   "source": [
    "## <font color= #6B6B6B> 5.1 Results of first processes </font>"
   ]
  },
  {
   "cell_type": "code",
   "execution_count": null,
   "metadata": {},
   "outputs": [],
   "source": [
    "# DELETE THIS CELL IN YOUR FILE\n",
    "\n",
    "# Separate your results according to the main processes you are working on"
   ]
  },
  {
   "cell_type": "markdown",
   "metadata": {},
   "source": [
    "<br>"
   ]
  },
  {
   "cell_type": "markdown",
   "metadata": {},
   "source": [
    "## <font color= #6B6B6B> 5.2 Results of another proces </font>"
   ]
  },
  {
   "cell_type": "code",
   "execution_count": null,
   "metadata": {},
   "outputs": [],
   "source": [
    "# DELETE THIS CELL IN YOUR FILE\n",
    "\n",
    "# You can have several processes with which you are obtaining the results you need."
   ]
  },
  {
   "cell_type": "markdown",
   "metadata": {},
   "source": [
    "<br>"
   ]
  },
  {
   "cell_type": "markdown",
   "metadata": {},
   "source": [
    "# <font color= #6B6B6B> <font size = 6> 6. References </font>"
   ]
  },
  {
   "cell_type": "markdown",
   "metadata": {},
   "source": [
    "<hr style=\"border:0.02in solid gray\"> </hr>"
   ]
  },
  {
   "cell_type": "code",
   "execution_count": null,
   "metadata": {},
   "outputs": [],
   "source": [
    "# DELETE THIS CELL IN YOUR FILE\n",
    "\n",
    "# Citations, and other references you are using.\n",
    "\n",
    "# DO INCLUDE THE FOLLOWING CITATION FOR THIS TEMPLATE"
   ]
  },
  {
   "cell_type": "markdown",
   "metadata": {},
   "source": [
    "[1] Munnoz, 2020. Python project template. https://github.com/iffranciscome/python-project. (2021)."
   ]
  },
  {
   "cell_type": "markdown",
   "metadata": {},
   "source": [
    "<br>"
   ]
  },
  {
   "cell_type": "markdown",
   "metadata": {},
   "source": [
    "# <font color= red> TESTS (DO NOT INCLUDE IN THE FINAL NOTEBOOK) </font>"
   ]
  },
  {
   "cell_type": "markdown",
   "metadata": {},
   "source": [
    "<hr style=\"border:0.02in solid red\"> </hr>"
   ]
  },
  {
   "cell_type": "markdown",
   "metadata": {},
   "source": [
    "Next are a series of tests to verify that everything is working ok. From correctly installed and loaded packages, to import other scripts, print plots with plotly"
   ]
  },
  {
   "cell_type": "code",
   "execution_count": null,
   "metadata": {},
   "outputs": [],
   "source": [
    "import pandas as pd\n",
    "import data as dt"
   ]
  },
  {
   "cell_type": "code",
   "execution_count": null,
   "metadata": {},
   "outputs": [],
   "source": [
    "# -- TEST 1 : \n",
    "# verify that the script is being read\n",
    "print(dt.dict_test)"
   ]
  },
  {
   "cell_type": "code",
   "execution_count": null,
   "metadata": {},
   "outputs": [],
   "source": [
    "# -- TEST 2 :\n",
    "# verify that installed pandas module works correctly\n",
    "df_dict_test = pd.DataFrame(dt.dict_test, index=[0,1])\n",
    "print(df_dict_test)"
   ]
  },
  {
   "cell_type": "code",
   "execution_count": null,
   "metadata": {},
   "outputs": [],
   "source": [
    "# -- TEST 3 :\n",
    "# verify you can use plotly and visualize plots in jupyter notebook\n",
    "\n",
    "from plotly.offline import iplot   # print the plot inside jupyter and offline\n",
    "import plotly.graph_objects as go  # functions to create plots\n",
    "\n",
    "# example data\n",
    "df = pd.DataFrame({'column_a': [1, 2, 3, 4, 5], 'column_b': [1, 2, 3, 4, 5]})\n",
    "# basic plotly plot\n",
    "data = [go.Bar(x=df['column_a'], y=df['column_b'])]\n",
    "\n",
    "# instruction to view it inside jupyter\n",
    "iplot(data)"
   ]
  },
  {
   "cell_type": "code",
   "execution_count": null,
   "metadata": {},
   "outputs": [],
   "source": [
    "# -- TEST 4 :\n",
    "# verify you can use plotly and visualize plots in web browser locally\n",
    "\n",
    "import plotly.io as pio            # to define input-output of plots\n",
    "pio.renderers.default = \"browser\"  # to render the plot locally in your default web browser\n",
    "\n",
    "# basic plotly plot\n",
    "plot_data = go.Figure(go.Bar(x=df['column_a'], y=df['column_b']))\n",
    "\n",
    "# instruction to view it in specified render (in this case browser)\n",
    "plot_data.show()"
   ]
  }
 ],
 "metadata": {
  "kernelspec": {
   "display_name": "Python 3",
   "language": "python",
   "name": "python3"
  },
  "language_info": {
   "codemirror_mode": {
    "name": "ipython",
    "version": 3
   },
   "file_extension": ".py",
   "mimetype": "text/x-python",
   "name": "python",
   "nbconvert_exporter": "python",
   "pygments_lexer": "ipython3",
   "version": "3.11.1"
  },
  "vscode": {
   "interpreter": {
    "hash": "9d34f287bbf158f81632958cb2b507a81add03f5959e3de227a54ccd45823d10"
   }
  }
 },
 "nbformat": 4,
 "nbformat_minor": 4
}
